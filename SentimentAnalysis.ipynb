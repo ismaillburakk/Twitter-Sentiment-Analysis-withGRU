{
  "cells": [
    {
      "cell_type": "code",
      "execution_count": 2,
      "metadata": {
        "_cell_guid": "b1076dfc-b9ad-4769-8c92-a6c4dae69d19",
        "_uuid": "8f2839f25d086af736a60e9eeb907d3b93b6e0e5",
        "execution": {
          "iopub.execute_input": "2024-04-29T16:15:06.736520Z",
          "iopub.status.busy": "2024-04-29T16:15:06.735745Z",
          "iopub.status.idle": "2024-04-29T16:15:06.740634Z",
          "shell.execute_reply": "2024-04-29T16:15:06.739549Z",
          "shell.execute_reply.started": "2024-04-29T16:15:06.736478Z"
        },
        "id": "63AY3po4Mpuv",
        "trusted": true
      },
      "outputs": [],
      "source": [
        "import pandas as pd"
      ]
    },
    {
      "cell_type": "markdown",
      "metadata": {
        "id": "wvVQhnbbMpuw"
      },
      "source": [
        "- Loading the data"
      ]
    },
    {
      "cell_type": "code",
      "execution_count": 3,
      "metadata": {
        "execution": {
          "iopub.execute_input": "2024-04-29T16:15:06.743202Z",
          "iopub.status.busy": "2024-04-29T16:15:06.742439Z",
          "iopub.status.idle": "2024-04-29T16:15:06.979466Z",
          "shell.execute_reply": "2024-04-29T16:15:06.978635Z",
          "shell.execute_reply.started": "2024-04-29T16:15:06.743150Z"
        },
        "id": "f3_93UL9Mpux",
        "trusted": true
      },
      "outputs": [],
      "source": [
        "training=pd.read_csv(\"twitter_training.csv\")\n",
        "test=pd.read_csv(\"twitter_validation.csv\")"
      ]
    },
    {
      "cell_type": "code",
      "execution_count": 4,
      "metadata": {
        "colab": {
          "base_uri": "https://localhost:8080/",
          "height": 424
        },
        "execution": {
          "iopub.execute_input": "2024-04-29T16:15:06.980795Z",
          "iopub.status.busy": "2024-04-29T16:15:06.980500Z",
          "iopub.status.idle": "2024-04-29T16:15:07.005240Z",
          "shell.execute_reply": "2024-04-29T16:15:07.004409Z",
          "shell.execute_reply.started": "2024-04-29T16:15:06.980770Z"
        },
        "id": "ns3X5DdNMpuy",
        "outputId": "a18f04d1-4ad2-4aba-b8c4-d78ad6d5d1bd",
        "trusted": true
      },
      "outputs": [
        {
          "data": {
            "text/html": [
              "<div>\n",
              "<style scoped>\n",
              "    .dataframe tbody tr th:only-of-type {\n",
              "        vertical-align: middle;\n",
              "    }\n",
              "\n",
              "    .dataframe tbody tr th {\n",
              "        vertical-align: top;\n",
              "    }\n",
              "\n",
              "    .dataframe thead th {\n",
              "        text-align: right;\n",
              "    }\n",
              "</style>\n",
              "<table border=\"1\" class=\"dataframe\">\n",
              "  <thead>\n",
              "    <tr style=\"text-align: right;\">\n",
              "      <th></th>\n",
              "      <th>2401</th>\n",
              "      <th>Borderlands</th>\n",
              "      <th>Positive</th>\n",
              "      <th>im getting on borderlands and i will murder you all ,</th>\n",
              "    </tr>\n",
              "  </thead>\n",
              "  <tbody>\n",
              "    <tr>\n",
              "      <th>0</th>\n",
              "      <td>2401</td>\n",
              "      <td>Borderlands</td>\n",
              "      <td>Positive</td>\n",
              "      <td>I am coming to the borders and I will kill you...</td>\n",
              "    </tr>\n",
              "    <tr>\n",
              "      <th>1</th>\n",
              "      <td>2401</td>\n",
              "      <td>Borderlands</td>\n",
              "      <td>Positive</td>\n",
              "      <td>im getting on borderlands and i will kill you ...</td>\n",
              "    </tr>\n",
              "    <tr>\n",
              "      <th>2</th>\n",
              "      <td>2401</td>\n",
              "      <td>Borderlands</td>\n",
              "      <td>Positive</td>\n",
              "      <td>im coming on borderlands and i will murder you...</td>\n",
              "    </tr>\n",
              "    <tr>\n",
              "      <th>3</th>\n",
              "      <td>2401</td>\n",
              "      <td>Borderlands</td>\n",
              "      <td>Positive</td>\n",
              "      <td>im getting on borderlands 2 and i will murder ...</td>\n",
              "    </tr>\n",
              "    <tr>\n",
              "      <th>4</th>\n",
              "      <td>2401</td>\n",
              "      <td>Borderlands</td>\n",
              "      <td>Positive</td>\n",
              "      <td>im getting into borderlands and i can murder y...</td>\n",
              "    </tr>\n",
              "    <tr>\n",
              "      <th>...</th>\n",
              "      <td>...</td>\n",
              "      <td>...</td>\n",
              "      <td>...</td>\n",
              "      <td>...</td>\n",
              "    </tr>\n",
              "    <tr>\n",
              "      <th>74676</th>\n",
              "      <td>9200</td>\n",
              "      <td>Nvidia</td>\n",
              "      <td>Positive</td>\n",
              "      <td>Just realized that the Windows partition of my...</td>\n",
              "    </tr>\n",
              "    <tr>\n",
              "      <th>74677</th>\n",
              "      <td>9200</td>\n",
              "      <td>Nvidia</td>\n",
              "      <td>Positive</td>\n",
              "      <td>Just realized that my Mac window partition is ...</td>\n",
              "    </tr>\n",
              "    <tr>\n",
              "      <th>74678</th>\n",
              "      <td>9200</td>\n",
              "      <td>Nvidia</td>\n",
              "      <td>Positive</td>\n",
              "      <td>Just realized the windows partition of my Mac ...</td>\n",
              "    </tr>\n",
              "    <tr>\n",
              "      <th>74679</th>\n",
              "      <td>9200</td>\n",
              "      <td>Nvidia</td>\n",
              "      <td>Positive</td>\n",
              "      <td>Just realized between the windows partition of...</td>\n",
              "    </tr>\n",
              "    <tr>\n",
              "      <th>74680</th>\n",
              "      <td>9200</td>\n",
              "      <td>Nvidia</td>\n",
              "      <td>Positive</td>\n",
              "      <td>Just like the windows partition of my Mac is l...</td>\n",
              "    </tr>\n",
              "  </tbody>\n",
              "</table>\n",
              "<p>74681 rows × 4 columns</p>\n",
              "</div>"
            ],
            "text/plain": [
              "       2401  Borderlands  Positive  \\\n",
              "0      2401  Borderlands  Positive   \n",
              "1      2401  Borderlands  Positive   \n",
              "2      2401  Borderlands  Positive   \n",
              "3      2401  Borderlands  Positive   \n",
              "4      2401  Borderlands  Positive   \n",
              "...     ...          ...       ...   \n",
              "74676  9200       Nvidia  Positive   \n",
              "74677  9200       Nvidia  Positive   \n",
              "74678  9200       Nvidia  Positive   \n",
              "74679  9200       Nvidia  Positive   \n",
              "74680  9200       Nvidia  Positive   \n",
              "\n",
              "      im getting on borderlands and i will murder you all ,  \n",
              "0      I am coming to the borders and I will kill you...     \n",
              "1      im getting on borderlands and i will kill you ...     \n",
              "2      im coming on borderlands and i will murder you...     \n",
              "3      im getting on borderlands 2 and i will murder ...     \n",
              "4      im getting into borderlands and i can murder y...     \n",
              "...                                                  ...     \n",
              "74676  Just realized that the Windows partition of my...     \n",
              "74677  Just realized that my Mac window partition is ...     \n",
              "74678  Just realized the windows partition of my Mac ...     \n",
              "74679  Just realized between the windows partition of...     \n",
              "74680  Just like the windows partition of my Mac is l...     \n",
              "\n",
              "[74681 rows x 4 columns]"
            ]
          },
          "execution_count": 4,
          "metadata": {},
          "output_type": "execute_result"
        }
      ],
      "source": [
        "training"
      ]
    },
    {
      "cell_type": "code",
      "execution_count": 5,
      "metadata": {
        "colab": {
          "base_uri": "https://localhost:8080/",
          "height": 493
        },
        "id": "Lh68Cn56s_eb",
        "outputId": "90cb64f2-1f65-4ef8-8514-28e5022d4465"
      },
      "outputs": [
        {
          "data": {
            "text/html": [
              "<div>\n",
              "<style scoped>\n",
              "    .dataframe tbody tr th:only-of-type {\n",
              "        vertical-align: middle;\n",
              "    }\n",
              "\n",
              "    .dataframe tbody tr th {\n",
              "        vertical-align: top;\n",
              "    }\n",
              "\n",
              "    .dataframe thead th {\n",
              "        text-align: right;\n",
              "    }\n",
              "</style>\n",
              "<table border=\"1\" class=\"dataframe\">\n",
              "  <thead>\n",
              "    <tr style=\"text-align: right;\">\n",
              "      <th></th>\n",
              "      <th>3364</th>\n",
              "      <th>Facebook</th>\n",
              "      <th>Irrelevant</th>\n",
              "      <th>I mentioned on Facebook that I was struggling for motivation to go for a run the other day, which has been translated by Tom’s great auntie as ‘Hayley can’t get out of bed’ and told to his grandma, who now thinks I’m a lazy, terrible person 🤣</th>\n",
              "    </tr>\n",
              "  </thead>\n",
              "  <tbody>\n",
              "    <tr>\n",
              "      <th>0</th>\n",
              "      <td>352</td>\n",
              "      <td>Amazon</td>\n",
              "      <td>Neutral</td>\n",
              "      <td>BBC News - Amazon boss Jeff Bezos rejects clai...</td>\n",
              "    </tr>\n",
              "    <tr>\n",
              "      <th>1</th>\n",
              "      <td>8312</td>\n",
              "      <td>Microsoft</td>\n",
              "      <td>Negative</td>\n",
              "      <td>@Microsoft Why do I pay for WORD when it funct...</td>\n",
              "    </tr>\n",
              "    <tr>\n",
              "      <th>2</th>\n",
              "      <td>4371</td>\n",
              "      <td>CS-GO</td>\n",
              "      <td>Negative</td>\n",
              "      <td>CSGO matchmaking is so full of closet hacking,...</td>\n",
              "    </tr>\n",
              "    <tr>\n",
              "      <th>3</th>\n",
              "      <td>4433</td>\n",
              "      <td>Google</td>\n",
              "      <td>Neutral</td>\n",
              "      <td>Now the President is slapping Americans in the...</td>\n",
              "    </tr>\n",
              "    <tr>\n",
              "      <th>4</th>\n",
              "      <td>6273</td>\n",
              "      <td>FIFA</td>\n",
              "      <td>Negative</td>\n",
              "      <td>Hi @EAHelp I’ve had Madeleine McCann in my cel...</td>\n",
              "    </tr>\n",
              "    <tr>\n",
              "      <th>...</th>\n",
              "      <td>...</td>\n",
              "      <td>...</td>\n",
              "      <td>...</td>\n",
              "      <td>...</td>\n",
              "    </tr>\n",
              "    <tr>\n",
              "      <th>994</th>\n",
              "      <td>4891</td>\n",
              "      <td>GrandTheftAuto(GTA)</td>\n",
              "      <td>Irrelevant</td>\n",
              "      <td>⭐️ Toronto is the arts and culture capital of ...</td>\n",
              "    </tr>\n",
              "    <tr>\n",
              "      <th>995</th>\n",
              "      <td>4359</td>\n",
              "      <td>CS-GO</td>\n",
              "      <td>Irrelevant</td>\n",
              "      <td>tHIS IS ACTUALLY A GOOD MOVE TOT BRING MORE VI...</td>\n",
              "    </tr>\n",
              "    <tr>\n",
              "      <th>996</th>\n",
              "      <td>2652</td>\n",
              "      <td>Borderlands</td>\n",
              "      <td>Positive</td>\n",
              "      <td>Today sucked so it’s time to drink wine n play...</td>\n",
              "    </tr>\n",
              "    <tr>\n",
              "      <th>997</th>\n",
              "      <td>8069</td>\n",
              "      <td>Microsoft</td>\n",
              "      <td>Positive</td>\n",
              "      <td>Bought a fraction of Microsoft today. Small wins.</td>\n",
              "    </tr>\n",
              "    <tr>\n",
              "      <th>998</th>\n",
              "      <td>6960</td>\n",
              "      <td>johnson&amp;johnson</td>\n",
              "      <td>Neutral</td>\n",
              "      <td>Johnson &amp; Johnson to stop selling talc baby po...</td>\n",
              "    </tr>\n",
              "  </tbody>\n",
              "</table>\n",
              "<p>999 rows × 4 columns</p>\n",
              "</div>"
            ],
            "text/plain": [
              "     3364             Facebook  Irrelevant  \\\n",
              "0     352               Amazon     Neutral   \n",
              "1    8312            Microsoft    Negative   \n",
              "2    4371                CS-GO    Negative   \n",
              "3    4433               Google     Neutral   \n",
              "4    6273                 FIFA    Negative   \n",
              "..    ...                  ...         ...   \n",
              "994  4891  GrandTheftAuto(GTA)  Irrelevant   \n",
              "995  4359                CS-GO  Irrelevant   \n",
              "996  2652          Borderlands    Positive   \n",
              "997  8069            Microsoft    Positive   \n",
              "998  6960      johnson&johnson     Neutral   \n",
              "\n",
              "    I mentioned on Facebook that I was struggling for motivation to go for a run the other day, which has been translated by Tom’s great auntie as ‘Hayley can’t get out of bed’ and told to his grandma, who now thinks I’m a lazy, terrible person 🤣  \n",
              "0    BBC News - Amazon boss Jeff Bezos rejects clai...                                                                                                                                                                                                  \n",
              "1    @Microsoft Why do I pay for WORD when it funct...                                                                                                                                                                                                  \n",
              "2    CSGO matchmaking is so full of closet hacking,...                                                                                                                                                                                                  \n",
              "3    Now the President is slapping Americans in the...                                                                                                                                                                                                  \n",
              "4    Hi @EAHelp I’ve had Madeleine McCann in my cel...                                                                                                                                                                                                  \n",
              "..                                                 ...                                                                                                                                                                                                  \n",
              "994  ⭐️ Toronto is the arts and culture capital of ...                                                                                                                                                                                                  \n",
              "995  tHIS IS ACTUALLY A GOOD MOVE TOT BRING MORE VI...                                                                                                                                                                                                  \n",
              "996  Today sucked so it’s time to drink wine n play...                                                                                                                                                                                                  \n",
              "997  Bought a fraction of Microsoft today. Small wins.                                                                                                                                                                                                  \n",
              "998  Johnson & Johnson to stop selling talc baby po...                                                                                                                                                                                                  \n",
              "\n",
              "[999 rows x 4 columns]"
            ]
          },
          "execution_count": 5,
          "metadata": {},
          "output_type": "execute_result"
        }
      ],
      "source": [
        "test"
      ]
    },
    {
      "cell_type": "code",
      "execution_count": 6,
      "metadata": {
        "execution": {
          "iopub.execute_input": "2024-04-29T16:15:07.020445Z",
          "iopub.status.busy": "2024-04-29T16:15:07.020099Z",
          "iopub.status.idle": "2024-04-29T16:15:07.027635Z",
          "shell.execute_reply": "2024-04-29T16:15:07.026880Z",
          "shell.execute_reply.started": "2024-04-29T16:15:07.020413Z"
        },
        "id": "IRCEIHc1Mpuz",
        "trusted": true
      },
      "outputs": [],
      "source": [
        "training.columns = ['id', 'company','labels','text']\n",
        "test.columns = ['id', 'company','labels','text']"
      ]
    },
    {
      "cell_type": "markdown",
      "metadata": {
        "id": "4ZkxQSmhMpuz"
      },
      "source": [
        "- Delete unneeded columns"
      ]
    },
    {
      "cell_type": "code",
      "execution_count": 7,
      "metadata": {
        "execution": {
          "iopub.execute_input": "2024-04-29T16:15:07.044293Z",
          "iopub.status.busy": "2024-04-29T16:15:07.044027Z",
          "iopub.status.idle": "2024-04-29T16:15:07.053762Z",
          "shell.execute_reply": "2024-04-29T16:15:07.052975Z",
          "shell.execute_reply.started": "2024-04-29T16:15:07.044270Z"
        },
        "id": "A0WK2Zv3Mpuz",
        "trusted": true
      },
      "outputs": [],
      "source": [
        "training.drop(columns=[\"id\",\"company\"],inplace=True)\n",
        "test.drop(columns=[\"id\",\"company\"],inplace=True)"
      ]
    },
    {
      "cell_type": "code",
      "execution_count": 8,
      "metadata": {
        "colab": {
          "base_uri": "https://localhost:8080/",
          "height": 206
        },
        "execution": {
          "iopub.execute_input": "2024-04-29T16:15:07.055293Z",
          "iopub.status.busy": "2024-04-29T16:15:07.054893Z",
          "iopub.status.idle": "2024-04-29T16:15:07.066491Z",
          "shell.execute_reply": "2024-04-29T16:15:07.065459Z",
          "shell.execute_reply.started": "2024-04-29T16:15:07.055263Z"
        },
        "id": "r-KagwLqMpuz",
        "outputId": "3e30066e-f17e-434e-a84d-8b148348afcd",
        "trusted": true
      },
      "outputs": [
        {
          "data": {
            "text/html": [
              "<div>\n",
              "<style scoped>\n",
              "    .dataframe tbody tr th:only-of-type {\n",
              "        vertical-align: middle;\n",
              "    }\n",
              "\n",
              "    .dataframe tbody tr th {\n",
              "        vertical-align: top;\n",
              "    }\n",
              "\n",
              "    .dataframe thead th {\n",
              "        text-align: right;\n",
              "    }\n",
              "</style>\n",
              "<table border=\"1\" class=\"dataframe\">\n",
              "  <thead>\n",
              "    <tr style=\"text-align: right;\">\n",
              "      <th></th>\n",
              "      <th>labels</th>\n",
              "      <th>text</th>\n",
              "    </tr>\n",
              "  </thead>\n",
              "  <tbody>\n",
              "    <tr>\n",
              "      <th>0</th>\n",
              "      <td>Positive</td>\n",
              "      <td>I am coming to the borders and I will kill you...</td>\n",
              "    </tr>\n",
              "    <tr>\n",
              "      <th>1</th>\n",
              "      <td>Positive</td>\n",
              "      <td>im getting on borderlands and i will kill you ...</td>\n",
              "    </tr>\n",
              "    <tr>\n",
              "      <th>2</th>\n",
              "      <td>Positive</td>\n",
              "      <td>im coming on borderlands and i will murder you...</td>\n",
              "    </tr>\n",
              "    <tr>\n",
              "      <th>3</th>\n",
              "      <td>Positive</td>\n",
              "      <td>im getting on borderlands 2 and i will murder ...</td>\n",
              "    </tr>\n",
              "    <tr>\n",
              "      <th>4</th>\n",
              "      <td>Positive</td>\n",
              "      <td>im getting into borderlands and i can murder y...</td>\n",
              "    </tr>\n",
              "  </tbody>\n",
              "</table>\n",
              "</div>"
            ],
            "text/plain": [
              "     labels                                               text\n",
              "0  Positive  I am coming to the borders and I will kill you...\n",
              "1  Positive  im getting on borderlands and i will kill you ...\n",
              "2  Positive  im coming on borderlands and i will murder you...\n",
              "3  Positive  im getting on borderlands 2 and i will murder ...\n",
              "4  Positive  im getting into borderlands and i can murder y..."
            ]
          },
          "execution_count": 8,
          "metadata": {},
          "output_type": "execute_result"
        }
      ],
      "source": [
        "training.head()"
      ]
    },
    {
      "cell_type": "code",
      "execution_count": 9,
      "metadata": {
        "colab": {
          "base_uri": "https://localhost:8080/",
          "height": 206
        },
        "id": "F5p0GGiBtPmf",
        "outputId": "a0bf6773-f17b-4c93-9440-a7a818f63e4d"
      },
      "outputs": [
        {
          "data": {
            "text/html": [
              "<div>\n",
              "<style scoped>\n",
              "    .dataframe tbody tr th:only-of-type {\n",
              "        vertical-align: middle;\n",
              "    }\n",
              "\n",
              "    .dataframe tbody tr th {\n",
              "        vertical-align: top;\n",
              "    }\n",
              "\n",
              "    .dataframe thead th {\n",
              "        text-align: right;\n",
              "    }\n",
              "</style>\n",
              "<table border=\"1\" class=\"dataframe\">\n",
              "  <thead>\n",
              "    <tr style=\"text-align: right;\">\n",
              "      <th></th>\n",
              "      <th>labels</th>\n",
              "      <th>text</th>\n",
              "    </tr>\n",
              "  </thead>\n",
              "  <tbody>\n",
              "    <tr>\n",
              "      <th>0</th>\n",
              "      <td>Neutral</td>\n",
              "      <td>BBC News - Amazon boss Jeff Bezos rejects clai...</td>\n",
              "    </tr>\n",
              "    <tr>\n",
              "      <th>1</th>\n",
              "      <td>Negative</td>\n",
              "      <td>@Microsoft Why do I pay for WORD when it funct...</td>\n",
              "    </tr>\n",
              "    <tr>\n",
              "      <th>2</th>\n",
              "      <td>Negative</td>\n",
              "      <td>CSGO matchmaking is so full of closet hacking,...</td>\n",
              "    </tr>\n",
              "    <tr>\n",
              "      <th>3</th>\n",
              "      <td>Neutral</td>\n",
              "      <td>Now the President is slapping Americans in the...</td>\n",
              "    </tr>\n",
              "    <tr>\n",
              "      <th>4</th>\n",
              "      <td>Negative</td>\n",
              "      <td>Hi @EAHelp I’ve had Madeleine McCann in my cel...</td>\n",
              "    </tr>\n",
              "  </tbody>\n",
              "</table>\n",
              "</div>"
            ],
            "text/plain": [
              "     labels                                               text\n",
              "0   Neutral  BBC News - Amazon boss Jeff Bezos rejects clai...\n",
              "1  Negative  @Microsoft Why do I pay for WORD when it funct...\n",
              "2  Negative  CSGO matchmaking is so full of closet hacking,...\n",
              "3   Neutral  Now the President is slapping Americans in the...\n",
              "4  Negative  Hi @EAHelp I’ve had Madeleine McCann in my cel..."
            ]
          },
          "execution_count": 9,
          "metadata": {},
          "output_type": "execute_result"
        }
      ],
      "source": [
        "test.head()"
      ]
    },
    {
      "cell_type": "markdown",
      "metadata": {
        "id": "W2c_nqSBMpu0"
      },
      "source": [
        "- Concatenating the dataframes"
      ]
    },
    {
      "cell_type": "code",
      "execution_count": 10,
      "metadata": {
        "colab": {
          "base_uri": "https://localhost:8080/",
          "height": 424
        },
        "id": "LnAS7_R-toWQ",
        "outputId": "11d2fc24-eb24-4e48-b98a-3f137b8068a8"
      },
      "outputs": [
        {
          "data": {
            "text/html": [
              "<div>\n",
              "<style scoped>\n",
              "    .dataframe tbody tr th:only-of-type {\n",
              "        vertical-align: middle;\n",
              "    }\n",
              "\n",
              "    .dataframe tbody tr th {\n",
              "        vertical-align: top;\n",
              "    }\n",
              "\n",
              "    .dataframe thead th {\n",
              "        text-align: right;\n",
              "    }\n",
              "</style>\n",
              "<table border=\"1\" class=\"dataframe\">\n",
              "  <thead>\n",
              "    <tr style=\"text-align: right;\">\n",
              "      <th></th>\n",
              "      <th>labels</th>\n",
              "      <th>text</th>\n",
              "    </tr>\n",
              "  </thead>\n",
              "  <tbody>\n",
              "    <tr>\n",
              "      <th>0</th>\n",
              "      <td>Positive</td>\n",
              "      <td>I am coming to the borders and I will kill you...</td>\n",
              "    </tr>\n",
              "    <tr>\n",
              "      <th>1</th>\n",
              "      <td>Positive</td>\n",
              "      <td>im getting on borderlands and i will kill you ...</td>\n",
              "    </tr>\n",
              "    <tr>\n",
              "      <th>2</th>\n",
              "      <td>Positive</td>\n",
              "      <td>im coming on borderlands and i will murder you...</td>\n",
              "    </tr>\n",
              "    <tr>\n",
              "      <th>3</th>\n",
              "      <td>Positive</td>\n",
              "      <td>im getting on borderlands 2 and i will murder ...</td>\n",
              "    </tr>\n",
              "    <tr>\n",
              "      <th>4</th>\n",
              "      <td>Positive</td>\n",
              "      <td>im getting into borderlands and i can murder y...</td>\n",
              "    </tr>\n",
              "    <tr>\n",
              "      <th>...</th>\n",
              "      <td>...</td>\n",
              "      <td>...</td>\n",
              "    </tr>\n",
              "    <tr>\n",
              "      <th>75675</th>\n",
              "      <td>Irrelevant</td>\n",
              "      <td>⭐️ Toronto is the arts and culture capital of ...</td>\n",
              "    </tr>\n",
              "    <tr>\n",
              "      <th>75676</th>\n",
              "      <td>Irrelevant</td>\n",
              "      <td>tHIS IS ACTUALLY A GOOD MOVE TOT BRING MORE VI...</td>\n",
              "    </tr>\n",
              "    <tr>\n",
              "      <th>75677</th>\n",
              "      <td>Positive</td>\n",
              "      <td>Today sucked so it’s time to drink wine n play...</td>\n",
              "    </tr>\n",
              "    <tr>\n",
              "      <th>75678</th>\n",
              "      <td>Positive</td>\n",
              "      <td>Bought a fraction of Microsoft today. Small wins.</td>\n",
              "    </tr>\n",
              "    <tr>\n",
              "      <th>75679</th>\n",
              "      <td>Neutral</td>\n",
              "      <td>Johnson &amp; Johnson to stop selling talc baby po...</td>\n",
              "    </tr>\n",
              "  </tbody>\n",
              "</table>\n",
              "<p>75680 rows × 2 columns</p>\n",
              "</div>"
            ],
            "text/plain": [
              "           labels                                               text\n",
              "0        Positive  I am coming to the borders and I will kill you...\n",
              "1        Positive  im getting on borderlands and i will kill you ...\n",
              "2        Positive  im coming on borderlands and i will murder you...\n",
              "3        Positive  im getting on borderlands 2 and i will murder ...\n",
              "4        Positive  im getting into borderlands and i can murder y...\n",
              "...           ...                                                ...\n",
              "75675  Irrelevant  ⭐️ Toronto is the arts and culture capital of ...\n",
              "75676  Irrelevant  tHIS IS ACTUALLY A GOOD MOVE TOT BRING MORE VI...\n",
              "75677    Positive  Today sucked so it’s time to drink wine n play...\n",
              "75678    Positive  Bought a fraction of Microsoft today. Small wins.\n",
              "75679     Neutral  Johnson & Johnson to stop selling talc baby po...\n",
              "\n",
              "[75680 rows x 2 columns]"
            ]
          },
          "execution_count": 10,
          "metadata": {},
          "output_type": "execute_result"
        }
      ],
      "source": [
        "sentiment=pd.concat([training,test],ignore_index=True)\n",
        "sentiment"
      ]
    },
    {
      "cell_type": "markdown",
      "metadata": {},
      "source": [
        "- Check if there is null values"
      ]
    },
    {
      "cell_type": "code",
      "execution_count": 11,
      "metadata": {
        "colab": {
          "base_uri": "https://localhost:8080/"
        },
        "execution": {
          "iopub.execute_input": "2024-04-29T16:15:07.129211Z",
          "iopub.status.busy": "2024-04-29T16:15:07.128876Z",
          "iopub.status.idle": "2024-04-29T16:15:07.150276Z",
          "shell.execute_reply": "2024-04-29T16:15:07.149331Z",
          "shell.execute_reply.started": "2024-04-29T16:15:07.129180Z"
        },
        "id": "DUpxlbLyMpu0",
        "outputId": "4886e14c-d8de-4421-cb7f-69f151371380",
        "trusted": true
      },
      "outputs": [
        {
          "data": {
            "text/plain": [
              "labels      0\n",
              "text      686\n",
              "dtype: int64"
            ]
          },
          "execution_count": 11,
          "metadata": {},
          "output_type": "execute_result"
        }
      ],
      "source": [
        "sentiment.isnull().sum()"
      ]
    },
    {
      "cell_type": "markdown",
      "metadata": {},
      "source": [
        "- Check if there is NaN values"
      ]
    },
    {
      "cell_type": "code",
      "execution_count": 12,
      "metadata": {
        "colab": {
          "base_uri": "https://localhost:8080/"
        },
        "execution": {
          "iopub.execute_input": "2024-04-29T16:15:07.151933Z",
          "iopub.status.busy": "2024-04-29T16:15:07.151606Z",
          "iopub.status.idle": "2024-04-29T16:15:07.192238Z",
          "shell.execute_reply": "2024-04-29T16:15:07.191437Z",
          "shell.execute_reply.started": "2024-04-29T16:15:07.151904Z"
        },
        "id": "zrSpFGn6Mpu0",
        "outputId": "9487f88f-fc03-40c6-e3f9-f1b22acc7c54",
        "trusted": true
      },
      "outputs": [
        {
          "data": {
            "text/plain": [
              "labels    0\n",
              "text      0\n",
              "dtype: int64"
            ]
          },
          "execution_count": 12,
          "metadata": {},
          "output_type": "execute_result"
        }
      ],
      "source": [
        "sentiment.dropna(inplace=True)\n",
        "sentiment.isnull().sum()"
      ]
    },
    {
      "cell_type": "markdown",
      "metadata": {},
      "source": [
        "- Check if there is duplicated values"
      ]
    },
    {
      "cell_type": "code",
      "execution_count": 13,
      "metadata": {
        "colab": {
          "base_uri": "https://localhost:8080/"
        },
        "execution": {
          "iopub.execute_input": "2024-04-29T16:15:07.193499Z",
          "iopub.status.busy": "2024-04-29T16:15:07.193209Z",
          "iopub.status.idle": "2024-04-29T16:15:07.239775Z",
          "shell.execute_reply": "2024-04-29T16:15:07.238871Z",
          "shell.execute_reply.started": "2024-04-29T16:15:07.193475Z"
        },
        "id": "Fm-4VndkMpu0",
        "outputId": "43f99572-7716-41b0-8391-c644cfab009f",
        "trusted": true
      },
      "outputs": [
        {
          "data": {
            "text/plain": [
              "4743"
            ]
          },
          "execution_count": 13,
          "metadata": {},
          "output_type": "execute_result"
        }
      ],
      "source": [
        "sentiment.duplicated().sum()"
      ]
    },
    {
      "cell_type": "code",
      "execution_count": 14,
      "metadata": {
        "colab": {
          "base_uri": "https://localhost:8080/"
        },
        "execution": {
          "iopub.execute_input": "2024-04-29T16:15:07.241063Z",
          "iopub.status.busy": "2024-04-29T16:15:07.240793Z",
          "iopub.status.idle": "2024-04-29T16:15:07.319023Z",
          "shell.execute_reply": "2024-04-29T16:15:07.318133Z",
          "shell.execute_reply.started": "2024-04-29T16:15:07.241039Z"
        },
        "id": "MScYu17kMpu0",
        "outputId": "a6bbdc59-15f8-444b-b5eb-5d0708868165",
        "trusted": true
      },
      "outputs": [
        {
          "data": {
            "text/plain": [
              "0"
            ]
          },
          "execution_count": 14,
          "metadata": {},
          "output_type": "execute_result"
        }
      ],
      "source": [
        "sentiment.drop_duplicates(inplace=True)\n",
        "sentiment.duplicated().sum()"
      ]
    },
    {
      "cell_type": "markdown",
      "metadata": {},
      "source": [
        "- Emoji and stopword list (English stopwords)"
      ]
    },
    {
      "cell_type": "code",
      "execution_count": 15,
      "metadata": {
        "id": "2dY5T2c-thkY"
      },
      "outputs": [],
      "source": [
        "emojis = {':)': 'smile', ':-)': 'smile', ';d': 'wink', ':-E': 'vampire', ':(': 'sad',\n",
        "          ':-(': 'sad', ':-<': 'sad', ':P': 'raspberry', ':O': 'surprised',\n",
        "          ':-@': 'shocked', ':@': 'shocked',':-$': 'confused', ':\\\\': 'annoyed',\n",
        "          ':#': 'mute', ':X': 'mute', ':^)': 'smile', ':-&': 'confused', '$_$': 'greedy',\n",
        "          '@@': 'eyeroll', ':-!': 'confused', ':-D': 'smile', ':-0': 'yell', 'O.o': 'confused',\n",
        "          '<(-_-)>': 'robot', 'd[-_-]b': 'dj', \":'-)\": 'sadsmile', ';)': 'wink',\n",
        "          ';-)': 'wink', 'O:-)': 'angel','O*-)': 'angel','(:-D': 'gossip', '=^.^=': 'cat'}\n",
        "\n",
        "stopwordlist = ['a', 'about', 'above', 'after', 'again', 'ain', 'all', 'am', 'an',\n",
        "             'and','any','are', 'as', 'at', 'be', 'because', 'been', 'before',\n",
        "             'being', 'below', 'between','both', 'by', 'can', 'd', 'did', 'do',\n",
        "             'does', 'doing', 'down', 'during', 'each','few', 'for', 'from',\n",
        "             'further', 'had', 'has', 'have', 'having', 'he', 'her', 'here',\n",
        "             'hers', 'herself', 'him', 'himself', 'his', 'how', 'i', 'if', 'in',\n",
        "             'into','is', 'it', 'its', 'itself', 'just', 'll', 'm', 'ma',\n",
        "             'me', 'more', 'most','my', 'myself', 'now', 'o', 'of', 'on', 'once',\n",
        "             'only', 'or', 'other', 'our', 'ours','ourselves', 'out', 'own', 're',\n",
        "             's', 'same', 'she', \"shes\", 'should', \"shouldve\",'so', 'some', 'such',\n",
        "             't', 'than', 'that', \"thatll\", 'the', 'their', 'theirs', 'them',\n",
        "             'themselves', 'then', 'there', 'these', 'they', 'this', 'those',\n",
        "             'through', 'to', 'too','under', 'until', 'up', 've', 'very', 'was',\n",
        "             'we', 'were', 'what', 'when', 'where','which','while', 'who', 'whom',\n",
        "             'why', 'will', 'with', 'won', 'y', 'you', \"youd\",\"youll\", \"youre\",\n",
        "             \"youve\", 'your', 'yours', 'yourself', 'yourselves']"
      ]
    },
    {
      "cell_type": "markdown",
      "metadata": {},
      "source": [
        "- Preprocessing function"
      ]
    },
    {
      "cell_type": "code",
      "execution_count": 16,
      "metadata": {
        "id": "oYl5fqB1uIEs"
      },
      "outputs": [],
      "source": [
        "from nltk.stem import WordNetLemmatizer\n",
        "import re\n",
        "def preprocess(textdata):\n",
        "    processedText = []\n",
        "\n",
        "    # Create Lemmatizer and Stemmer.\n",
        "    wordLemm = WordNetLemmatizer()\n",
        "\n",
        "    # Defining regex patterns.\n",
        "    urlPattern        = r\"((http://)[^ ]*|(https://)[^ ]*|( www\\.)[^ ]*)\"\n",
        "    userPattern       = '@[^\\s]+'\n",
        "    alphaPattern      = \"[^a-zA-Z0-9]\"\n",
        "    sequencePattern   = r\"(.)\\1\\1+\"\n",
        "    seqReplacePattern = r\"\\1\\1\"\n",
        "\n",
        "    for tweet in textdata:\n",
        "        tweet = tweet.lower()\n",
        "\n",
        "        # Replace all URls with 'URL'\n",
        "        tweet = re.sub(urlPattern,' URL',tweet)\n",
        "        # Replace all emojis.\n",
        "        for emoji in emojis.keys():\n",
        "            tweet = tweet.replace(emoji, \"EMOJI\" + emojis[emoji])\n",
        "        # Replace @USERNAME to 'USER'.\n",
        "        tweet = re.sub(userPattern,' USER', tweet)\n",
        "        # Replace all non alphabets.\n",
        "        tweet = re.sub(alphaPattern, \" \", tweet)\n",
        "        # Replace 3 or more consecutive letters by 2 letter.\n",
        "        tweet = re.sub(sequencePattern, seqReplacePattern, tweet)\n",
        "\n",
        "        tweetwords = ''\n",
        "        for word in tweet.split():\n",
        "            # Checking if the word is a stopword.\n",
        "            #if word not in stopwordlist:\n",
        "            if len(word)>1:\n",
        "                # Lemmatizing the word.\n",
        "                word = wordLemm.lemmatize(word)\n",
        "                tweetwords += (word+' ')\n",
        "\n",
        "        processedText.append(tweetwords)\n",
        "\n",
        "    return processedText"
      ]
    },
    {
      "cell_type": "code",
      "execution_count": 17,
      "metadata": {
        "execution": {
          "iopub.execute_input": "2024-04-29T16:15:13.009008Z",
          "iopub.status.busy": "2024-04-29T16:15:13.008691Z",
          "iopub.status.idle": "2024-04-29T16:15:13.038647Z",
          "shell.execute_reply": "2024-04-29T16:15:13.037816Z",
          "shell.execute_reply.started": "2024-04-29T16:15:13.008973Z"
        },
        "id": "CFJwEs4wMpu1",
        "trusted": true
      },
      "outputs": [],
      "source": [
        "x=sentiment.drop('labels',axis=1)\n",
        "y=sentiment.labels"
      ]
    },
    {
      "cell_type": "code",
      "execution_count": 18,
      "metadata": {
        "execution": {
          "iopub.execute_input": "2024-04-29T16:15:13.039978Z",
          "iopub.status.busy": "2024-04-29T16:15:13.039723Z",
          "iopub.status.idle": "2024-04-29T16:15:13.060150Z",
          "shell.execute_reply": "2024-04-29T16:15:13.059426Z",
          "shell.execute_reply.started": "2024-04-29T16:15:13.039956Z"
        },
        "id": "PAZzHiKgMpu1",
        "trusted": true
      },
      "outputs": [],
      "source": [
        "texts=list(x['text'])"
      ]
    },
    {
      "cell_type": "code",
      "execution_count": 19,
      "metadata": {
        "id": "dj6WtuCWu8Ds"
      },
      "outputs": [],
      "source": [
        "import nltk"
      ]
    },
    {
      "cell_type": "code",
      "execution_count": 20,
      "metadata": {
        "colab": {
          "base_uri": "https://localhost:8080/"
        },
        "id": "4E_qZWeMOlfr",
        "outputId": "fd88ae87-9de4-461f-9f2b-360ed7b4101c"
      },
      "outputs": [
        {
          "name": "stderr",
          "output_type": "stream",
          "text": [
            "[nltk_data] Downloading package punkt to\n",
            "[nltk_data]     C:\\Users\\selma\\AppData\\Roaming\\nltk_data...\n",
            "[nltk_data]   Package punkt is already up-to-date!\n",
            "[nltk_data] Downloading package stopwords to\n",
            "[nltk_data]     C:\\Users\\selma\\AppData\\Roaming\\nltk_data...\n",
            "[nltk_data]   Package stopwords is already up-to-date!\n",
            "[nltk_data] Downloading package wordnet to\n",
            "[nltk_data]     C:\\Users\\selma\\AppData\\Roaming\\nltk_data...\n",
            "[nltk_data]   Package wordnet is already up-to-date!\n"
          ]
        },
        {
          "data": {
            "text/plain": [
              "True"
            ]
          },
          "execution_count": 20,
          "metadata": {},
          "output_type": "execute_result"
        }
      ],
      "source": [
        "nltk.download('punkt')\n",
        "nltk.download('stopwords')\n",
        "nltk.download('wordnet')"
      ]
    },
    {
      "cell_type": "code",
      "execution_count": 21,
      "metadata": {
        "execution": {
          "iopub.execute_input": "2024-04-29T16:15:13.061430Z",
          "iopub.status.busy": "2024-04-29T16:15:13.061107Z",
          "iopub.status.idle": "2024-04-29T16:15:58.762532Z",
          "shell.execute_reply": "2024-04-29T16:15:58.761716Z",
          "shell.execute_reply.started": "2024-04-29T16:15:13.061407Z"
        },
        "id": "bkYKnG4KMpu1",
        "trusted": true
      },
      "outputs": [],
      "source": [
        "cleaned_text = preprocess(texts)"
      ]
    },
    {
      "cell_type": "markdown",
      "metadata": {},
      "source": [
        "# Clustering"
      ]
    },
    {
      "cell_type": "code",
      "execution_count": 24,
      "metadata": {},
      "outputs": [
        {
          "name": "stdout",
          "output_type": "stream",
          "text": [
            "cluster\n",
            "3    33102\n",
            "0    23977\n",
            "1     7511\n",
            "2     5661\n",
            "Name: count, dtype: int64\n",
            "\n",
            "Cluster 0:\n",
            "0    I am coming to the borders and I will kill you...\n",
            "1    im getting on borderlands and i will kill you ...\n",
            "2    im coming on borderlands and i will murder you...\n",
            "3    im getting on borderlands 2 and i will murder ...\n",
            "4    im getting into borderlands and i can murder y...\n",
            "Name: text, dtype: object\n",
            "\n",
            "Cluster 1:\n",
            "5    So I spent a few hours making something for fu...\n",
            "6    So I spent a couple of hours doing something f...\n",
            "7    So I spent a few hours doing something for fun...\n",
            "8    So I spent a few hours making something for fu...\n",
            "9    2010 So I spent a few hours making something f...\n",
            "Name: text, dtype: object\n",
            "\n",
            "Cluster 2:\n",
            "29    WE FINISHED BORDERLANDS 3 FINALLY YAS! Thank y...\n",
            "33    WE FINISHED BORDERLANDS 3 AND FINALLY YAS! Tha...\n",
            "77    One of our own @ProfZeroo is live w/ @borderla...\n",
            "80    One of our own @ProfZeroo is live >/ @borderla...\n",
            "81    One of our shows own @ProfZeroo is live via w ...\n",
            "Name: text, dtype: object\n",
            "\n",
            "Cluster 3:\n",
            "10                                                  was\n",
            "11    Rock-Hard La Varlope, RARE & POWERFUL, HANDSOM...\n",
            "12    Rock-Hard La Varlope, RARE & POWERFUL, HANDSOM...\n",
            "13    Rock-Hard La Varlope, RARE & POWERFUL, HANDSOM...\n",
            "14    Rock-Hard La Vita, RARE BUT POWERFUL, HANDSOME...\n",
            "Name: text, dtype: object\n",
            "Sum of Squared Errors (SSE): 67422.36360677422\n"
          ]
        }
      ],
      "source": [
        "from sklearn.cluster import KMeans\n",
        "\n",
        "#Define the number of clusters\n",
        "numclusters = 4\n",
        "\n",
        "#Convert text data to numerical representation using TF-IDF\n",
        "from sklearn.feature_extraction.text import TfidfVectorizer\n",
        "\n",
        "vectorizer = TfidfVectorizer(max_features=5000)  # You can adjust max_features as needed\n",
        "X = vectorizer.fit_transform(cleaned_text)\n",
        "\n",
        "#Apply K-Means clustering\n",
        "kmeans = KMeans(n_clusters=numclusters, random_state=42)\n",
        "kmeans.fit(X)\n",
        "\n",
        "#Assign cluster labels to each data point\n",
        "cluster_labels = kmeans.labels_\n",
        "\n",
        "#Add cluster labels to the sentiment dataframe\n",
        "sentiment['cluster'] = cluster_labels\n",
        "\n",
        "#Display the count of data points in each cluster\n",
        "print(sentiment['cluster'].value_counts())\n",
        "\n",
        "for cluster_num in range(numclusters):\n",
        "    print(f\"\\nCluster {cluster_num}:\")\n",
        "    cluster_data = sentiment[sentiment['cluster'] == cluster_num]['text']\n",
        "    print(cluster_data.head())\n",
        "\n",
        "sse = kmeans.inertia_\n",
        "print(\"Sum of Squared Errors (SSE):\", sse)"
      ]
    },
    {
      "cell_type": "code",
      "execution_count": null,
      "metadata": {
        "execution": {
          "iopub.execute_input": "2024-04-29T16:58:01.147826Z",
          "iopub.status.busy": "2024-04-29T16:58:01.146990Z",
          "iopub.status.idle": "2024-04-29T16:58:01.182124Z",
          "shell.execute_reply": "2024-04-29T16:58:01.181288Z",
          "shell.execute_reply.started": "2024-04-29T16:58:01.147790Z"
        },
        "id": "3dIruA0IMpu1",
        "trusted": true
      },
      "outputs": [],
      "source": [
        "from sklearn.model_selection import train_test_split\n",
        "X_train, X_test, y_train, y_test = train_test_split(cleaned_text, y, test_size=0.2, random_state=42)"
      ]
    },
    {
      "cell_type": "markdown",
      "metadata": {
        "id": "7p2mrIwCMpu1"
      },
      "source": [
        "- Tokenizing and padding"
      ]
    },
    {
      "cell_type": "code",
      "execution_count": null,
      "metadata": {
        "colab": {
          "base_uri": "https://localhost:8080/"
        },
        "execution": {
          "iopub.execute_input": "2024-04-29T16:58:04.154302Z",
          "iopub.status.busy": "2024-04-29T16:58:04.153947Z",
          "iopub.status.idle": "2024-04-29T16:58:05.191177Z",
          "shell.execute_reply": "2024-04-29T16:58:05.190405Z",
          "shell.execute_reply.started": "2024-04-29T16:58:04.154275Z"
        },
        "id": "nzjlNW5jMpu1",
        "outputId": "e0209670-f174-463f-fced-8d4bb0969010",
        "trusted": true
      },
      "outputs": [
        {
          "name": "stdout",
          "output_type": "stream",
          "text": [
            "the size of vocab = 26603\n"
          ]
        }
      ],
      "source": [
        "from tensorflow.keras.preprocessing.text import Tokenizer\n",
        "from tensorflow.keras.preprocessing.sequence import pad_sequences\n",
        "\n",
        "max_vocab = 40000\n",
        "tokenizer = Tokenizer(num_words=max_vocab)\n",
        "tokenizer.fit_on_texts(X_train)\n",
        "word_idx = tokenizer.word_index  # Corrected syntax for accessing word index\n",
        "v = len(word_idx)\n",
        "print(\"the size of vocab =\", v)  # Corrected spacing\n",
        "X_train = tokenizer.texts_to_sequences(X_train)\n",
        "X_test = tokenizer.texts_to_sequences(X_test)\n"
      ]
    },
    {
      "cell_type": "code",
      "execution_count": null,
      "metadata": {
        "execution": {
          "iopub.execute_input": "2024-04-29T16:58:16.721108Z",
          "iopub.status.busy": "2024-04-29T16:58:16.720248Z",
          "iopub.status.idle": "2024-04-29T16:58:17.007421Z",
          "shell.execute_reply": "2024-04-29T16:58:17.006597Z",
          "shell.execute_reply.started": "2024-04-29T16:58:16.721073Z"
        },
        "id": "dqMqZGhMMpu1",
        "trusted": true
      },
      "outputs": [],
      "source": [
        "from tensorflow.keras.preprocessing.sequence import pad_sequences\n",
        "\n",
        "maxlen = 100\n",
        "X_train = pad_sequences(X_train,maxlen=maxlen)\n",
        "X_test = pad_sequences(X_test,maxlen=maxlen)\n",
        "\n"
      ]
    },
    {
      "cell_type": "markdown",
      "metadata": {},
      "source": [
        "- Class Distribution"
      ]
    },
    {
      "cell_type": "code",
      "execution_count": null,
      "metadata": {
        "colab": {
          "base_uri": "https://localhost:8080/"
        },
        "execution": {
          "iopub.execute_input": "2024-04-29T16:58:21.377627Z",
          "iopub.status.busy": "2024-04-29T16:58:21.377273Z",
          "iopub.status.idle": "2024-04-29T16:58:21.393877Z",
          "shell.execute_reply": "2024-04-29T16:58:21.392985Z",
          "shell.execute_reply.started": "2024-04-29T16:58:21.377601Z"
        },
        "id": "Ea4GEZjoMpu1",
        "outputId": "9e7a8176-8727-4ab9-9b85-9978862a39d1",
        "trusted": true
      },
      "outputs": [
        {
          "data": {
            "text/plain": [
              "labels\n",
              "Negative      21329\n",
              "Positive      19270\n",
              "Neutral       17281\n",
              "Irrelevant    12371\n",
              "Name: count, dtype: int64"
            ]
          },
          "execution_count": 47,
          "metadata": {},
          "output_type": "execute_result"
        }
      ],
      "source": [
        "y.value_counts()"
      ]
    },
    {
      "cell_type": "markdown",
      "metadata": {
        "id": "7oEDJ68ZMpu2"
      },
      "source": [
        "# Model Development"
      ]
    },
    {
      "cell_type": "markdown",
      "metadata": {},
      "source": [
        "- After long experiments and debuggings we decided to continue via GRU."
      ]
    },
    {
      "cell_type": "code",
      "execution_count": null,
      "metadata": {
        "execution": {
          "iopub.execute_input": "2024-04-29T16:59:57.164780Z",
          "iopub.status.busy": "2024-04-29T16:59:57.164144Z",
          "iopub.status.idle": "2024-04-29T16:59:57.171272Z",
          "shell.execute_reply": "2024-04-29T16:59:57.170199Z",
          "shell.execute_reply.started": "2024-04-29T16:59:57.164747Z"
        },
        "id": "vpTjO7qcMpu2",
        "trusted": true
      },
      "outputs": [],
      "source": [
        "from keras.models import Sequential\n",
        "from keras.layers import Embedding, GRU, Dense,Input,GlobalMaxPooling1D,Dropout,Bidirectional\n",
        "from tensorflow.keras.models import Model\n",
        "from keras import optimizers\n",
        "import numpy as np\n",
        "dimensions=100\n",
        "x =Input(shape=(maxlen,))"
      ]
    },
    {
      "cell_type": "code",
      "execution_count": null,
      "metadata": {
        "execution": {
          "iopub.execute_input": "2024-04-29T17:00:03.612091Z",
          "iopub.status.busy": "2024-04-29T17:00:03.611741Z",
          "iopub.status.idle": "2024-04-29T17:00:03.694749Z",
          "shell.execute_reply": "2024-04-29T17:00:03.693829Z",
          "shell.execute_reply.started": "2024-04-29T17:00:03.612062Z"
        },
        "id": "rkrVBXUSMpu2",
        "trusted": true
      },
      "outputs": [],
      "source": [
        "from tensorflow.keras.optimizers import Adam\n",
        "learning_rate = 0.0001\n",
        "x=Embedding(v+1,dimensions)(input)\n",
        "x = Dropout(0.5)(x)\n",
        "x = Bidirectional(GRU(200))(x)\n",
        "x = Dense(32, activation='relu')(x)\n",
        "x = Dense(4, activation='softmax')(x)\n",
        "\n",
        "model = Model(input, x)\n",
        "\n",
        "optimizer = Adam(learning_rate=learning_rate)\n",
        "\n",
        "model.compile(optimizer=optimizer, loss='categorical_crossentropy', metrics=['accuracy'])\n"
      ]
    },
    {
      "cell_type": "code",
      "execution_count": null,
      "metadata": {
        "execution": {
          "iopub.execute_input": "2024-04-29T17:00:06.957213Z",
          "iopub.status.busy": "2024-04-29T17:00:06.956478Z",
          "iopub.status.idle": "2024-04-29T17:00:06.978275Z",
          "shell.execute_reply": "2024-04-29T17:00:06.977251Z",
          "shell.execute_reply.started": "2024-04-29T17:00:06.957181Z"
        },
        "id": "4pCCzS6cMpu2",
        "trusted": true
      },
      "outputs": [],
      "source": [
        "from sklearn.preprocessing import LabelEncoder\n",
        "\n",
        "label_encoder = LabelEncoder()\n",
        "y_train_encoded = label_encoder.fit_transform(y_train)\n",
        "y_test_encoded = label_encoder.transform(y_test)\n"
      ]
    },
    {
      "cell_type": "code",
      "execution_count": null,
      "metadata": {
        "colab": {
          "base_uri": "https://localhost:8080/"
        },
        "execution": {
          "iopub.execute_input": "2024-04-29T17:00:14.438542Z",
          "iopub.status.busy": "2024-04-29T17:00:14.438154Z",
          "iopub.status.idle": "2024-04-29T17:20:02.593416Z",
          "shell.execute_reply": "2024-04-29T17:20:02.592601Z",
          "shell.execute_reply.started": "2024-04-29T17:00:14.438515Z"
        },
        "id": "fYfTFg0bMpu2",
        "outputId": "fe8c411f-8c2a-44d5-850c-9babca7bf133",
        "trusted": true
      },
      "outputs": [
        {
          "name": "stdout",
          "output_type": "stream",
          "text": [
            "Epoch 1/40\n",
            "1757/1757 [==============================] - 66s 34ms/step - loss: 1.2035 - accuracy: 0.4625 - val_loss: 0.9821 - val_accuracy: 0.6061\n",
            "Epoch 2/40\n",
            "1757/1757 [==============================] - 26s 15ms/step - loss: 0.8983 - accuracy: 0.6404 - val_loss: 0.7918 - val_accuracy: 0.6995\n",
            "Epoch 3/40\n",
            "1757/1757 [==============================] - 25s 14ms/step - loss: 0.7073 - accuracy: 0.7310 - val_loss: 0.6524 - val_accuracy: 0.7606\n",
            "Epoch 4/40\n",
            "1757/1757 [==============================] - 23s 13ms/step - loss: 0.5744 - accuracy: 0.7839 - val_loss: 0.5649 - val_accuracy: 0.7955\n",
            "Epoch 5/40\n",
            "1757/1757 [==============================] - 23s 13ms/step - loss: 0.4840 - accuracy: 0.8215 - val_loss: 0.5069 - val_accuracy: 0.8159\n",
            "Epoch 6/40\n",
            "1757/1757 [==============================] - 25s 14ms/step - loss: 0.4212 - accuracy: 0.8467 - val_loss: 0.4832 - val_accuracy: 0.8246\n",
            "Epoch 7/40\n",
            "1757/1757 [==============================] - 23s 13ms/step - loss: 0.3729 - accuracy: 0.8642 - val_loss: 0.4339 - val_accuracy: 0.8410\n",
            "Epoch 8/40\n",
            "1757/1757 [==============================] - 24s 14ms/step - loss: 0.3372 - accuracy: 0.8761 - val_loss: 0.4076 - val_accuracy: 0.8545\n",
            "Epoch 9/40\n",
            "1757/1757 [==============================] - 24s 14ms/step - loss: 0.3046 - accuracy: 0.8883 - val_loss: 0.4104 - val_accuracy: 0.8533\n",
            "Epoch 10/40\n",
            "1757/1757 [==============================] - 24s 13ms/step - loss: 0.2797 - accuracy: 0.8965 - val_loss: 0.3815 - val_accuracy: 0.8630\n",
            "Epoch 11/40\n",
            "1757/1757 [==============================] - 24s 13ms/step - loss: 0.2577 - accuracy: 0.9046 - val_loss: 0.3763 - val_accuracy: 0.8693\n",
            "Epoch 12/40\n",
            "1757/1757 [==============================] - 24s 14ms/step - loss: 0.2393 - accuracy: 0.9117 - val_loss: 0.3632 - val_accuracy: 0.8703\n",
            "Epoch 13/40\n",
            "1757/1757 [==============================] - 24s 14ms/step - loss: 0.2234 - accuracy: 0.9184 - val_loss: 0.3522 - val_accuracy: 0.8769\n",
            "Epoch 14/40\n",
            "1757/1757 [==============================] - 23s 13ms/step - loss: 0.2103 - accuracy: 0.9220 - val_loss: 0.3514 - val_accuracy: 0.8806\n",
            "Epoch 15/40\n",
            "1757/1757 [==============================] - 24s 14ms/step - loss: 0.1977 - accuracy: 0.9272 - val_loss: 0.3436 - val_accuracy: 0.8826\n",
            "Epoch 16/40\n",
            "1757/1757 [==============================] - 23s 13ms/step - loss: 0.1878 - accuracy: 0.9296 - val_loss: 0.3445 - val_accuracy: 0.8840\n",
            "Epoch 17/40\n",
            "1757/1757 [==============================] - 23s 13ms/step - loss: 0.1764 - accuracy: 0.9354 - val_loss: 0.3408 - val_accuracy: 0.8871\n",
            "Epoch 18/40\n",
            "1757/1757 [==============================] - 23s 13ms/step - loss: 0.1662 - accuracy: 0.9383 - val_loss: 0.3382 - val_accuracy: 0.8875\n",
            "Epoch 19/40\n",
            "1757/1757 [==============================] - 23s 13ms/step - loss: 0.1633 - accuracy: 0.9394 - val_loss: 0.3347 - val_accuracy: 0.8911\n",
            "Epoch 20/40\n",
            "1757/1757 [==============================] - 23s 13ms/step - loss: 0.1530 - accuracy: 0.9428 - val_loss: 0.3385 - val_accuracy: 0.8917\n",
            "Epoch 21/40\n",
            "1757/1757 [==============================] - 23s 13ms/step - loss: 0.1480 - accuracy: 0.9450 - val_loss: 0.3379 - val_accuracy: 0.8929\n",
            "Epoch 22/40\n",
            "1757/1757 [==============================] - 23s 13ms/step - loss: 0.1390 - accuracy: 0.9486 - val_loss: 0.3458 - val_accuracy: 0.8952\n",
            "Epoch 23/40\n",
            "1757/1757 [==============================] - 23s 13ms/step - loss: 0.1377 - accuracy: 0.9483 - val_loss: 0.3426 - val_accuracy: 0.8940\n",
            "Epoch 24/40\n",
            "1757/1757 [==============================] - 23s 13ms/step - loss: 0.1297 - accuracy: 0.9527 - val_loss: 0.3503 - val_accuracy: 0.8955\n",
            "Epoch 25/40\n",
            "1757/1757 [==============================] - 23s 13ms/step - loss: 0.1278 - accuracy: 0.9516 - val_loss: 0.3464 - val_accuracy: 0.8962\n",
            "Epoch 26/40\n",
            "1757/1757 [==============================] - 23s 13ms/step - loss: 0.1205 - accuracy: 0.9556 - val_loss: 0.3487 - val_accuracy: 0.8978\n",
            "Epoch 27/40\n",
            "1757/1757 [==============================] - 24s 13ms/step - loss: 0.1178 - accuracy: 0.9561 - val_loss: 0.3560 - val_accuracy: 0.8976\n",
            "Epoch 28/40\n",
            "1757/1757 [==============================] - 23s 13ms/step - loss: 0.1149 - accuracy: 0.9573 - val_loss: 0.3469 - val_accuracy: 0.9000\n",
            "Epoch 29/40\n",
            "1757/1757 [==============================] - 24s 13ms/step - loss: 0.1124 - accuracy: 0.9580 - val_loss: 0.3532 - val_accuracy: 0.8992\n",
            "Epoch 30/40\n",
            "1757/1757 [==============================] - 23s 13ms/step - loss: 0.1084 - accuracy: 0.9596 - val_loss: 0.3569 - val_accuracy: 0.9009\n",
            "Epoch 31/40\n",
            "1757/1757 [==============================] - 23s 13ms/step - loss: 0.1041 - accuracy: 0.9617 - val_loss: 0.3635 - val_accuracy: 0.9001\n",
            "Epoch 32/40\n",
            "1757/1757 [==============================] - 23s 13ms/step - loss: 0.1031 - accuracy: 0.9614 - val_loss: 0.3584 - val_accuracy: 0.9013\n",
            "Epoch 33/40\n",
            "1757/1757 [==============================] - 23s 13ms/step - loss: 0.1001 - accuracy: 0.9627 - val_loss: 0.3657 - val_accuracy: 0.8988\n",
            "Epoch 34/40\n",
            "1757/1757 [==============================] - 23s 13ms/step - loss: 0.0968 - accuracy: 0.9640 - val_loss: 0.3734 - val_accuracy: 0.9014\n",
            "Epoch 35/40\n",
            "1757/1757 [==============================] - 23s 13ms/step - loss: 0.0929 - accuracy: 0.9652 - val_loss: 0.3702 - val_accuracy: 0.9016\n",
            "Epoch 36/40\n",
            "1757/1757 [==============================] - 23s 13ms/step - loss: 0.0904 - accuracy: 0.9666 - val_loss: 0.3752 - val_accuracy: 0.9008\n",
            "Epoch 37/40\n",
            "1757/1757 [==============================] - 24s 14ms/step - loss: 0.0890 - accuracy: 0.9670 - val_loss: 0.3709 - val_accuracy: 0.9028\n",
            "Epoch 38/40\n",
            "1757/1757 [==============================] - 23s 13ms/step - loss: 0.0877 - accuracy: 0.9671 - val_loss: 0.3699 - val_accuracy: 0.9045\n",
            "Epoch 39/40\n",
            "1757/1757 [==============================] - 23s 13ms/step - loss: 0.0856 - accuracy: 0.9676 - val_loss: 0.3694 - val_accuracy: 0.9031\n",
            "Epoch 40/40\n",
            "1757/1757 [==============================] - 23s 13ms/step - loss: 0.0836 - accuracy: 0.9681 - val_loss: 0.3864 - val_accuracy: 0.9034\n"
          ]
        }
      ],
      "source": [
        "import tensorflow as tf\n",
        "\n",
        "y_train_one_hot = tf.keras.utils.to_categorical(y_train_encoded)\n",
        "y_test_one_hot = tf.keras.utils.to_categorical(y_test_encoded)\n",
        "history = model.fit(X_train, y_train_one_hot, epochs=40, validation_data=(X_test, y_test_one_hot))\n"
      ]
    },
    {
      "cell_type": "code",
      "execution_count": null,
      "metadata": {
        "colab": {
          "base_uri": "https://localhost:8080/",
          "height": 927
        },
        "execution": {
          "iopub.execute_input": "2024-04-29T17:28:18.969509Z",
          "iopub.status.busy": "2024-04-29T17:28:18.968797Z",
          "iopub.status.idle": "2024-04-29T17:28:19.543367Z",
          "shell.execute_reply": "2024-04-29T17:28:19.542485Z",
          "shell.execute_reply.started": "2024-04-29T17:28:18.969476Z"
        },
        "id": "I05u2jSXMpu5",
        "outputId": "2330ffb6-6b7c-46a6-8306-cf1fa8b86d9f",
        "trusted": true
      },
      "outputs": [
        {
          "data": {
            "image/png": "[encoded data removed]",
            "text/plain": [
              "<Figure size 640x480 with 1 Axes>"
            ]
          },
          "metadata": {},
          "output_type": "display_data"
        },
        {
          "data": {
            "image/png": "[encoded data removed]",
            "text/plain": [
              "<Figure size 640x480 with 1 Axes>"
            ]
          },
          "metadata": {},
          "output_type": "display_data"
        }
      ],
      "source": [
        "import matplotlib.pyplot as plt\n",
        "\n",
        "# Plot training & validation accuracy values\n",
        "plt.plot(history.history['accuracy'])\n",
        "plt.plot(history.history['val_accuracy'])\n",
        "plt.title('Model accuracy')\n",
        "plt.xlabel('Epoch')\n",
        "plt.ylabel('Accuracy')\n",
        "plt.legend(['Train', 'Test'], loc='upper left')\n",
        "plt.show()\n",
        "\n",
        "# Plot training & validation loss values\n",
        "plt.plot(history.history['loss'])\n",
        "plt.plot(history.history['val_loss'])\n",
        "plt.title('Model loss')\n",
        "plt.xlabel('Epoch')\n",
        "plt.ylabel('Loss')\n",
        "plt.legend(['Train', 'Test'], loc='upper left')\n",
        "plt.show()\n"
      ]
    },
    {
      "cell_type": "markdown",
      "metadata": {},
      "source": [
        "# Evaluation"
      ]
    },
    {
      "cell_type": "code",
      "execution_count": null,
      "metadata": {
        "colab": {
          "base_uri": "https://localhost:8080/"
        },
        "execution": {
          "iopub.execute_input": "2024-04-29T17:28:25.327340Z",
          "iopub.status.busy": "2024-04-29T17:28:25.326513Z",
          "iopub.status.idle": "2024-04-29T17:28:28.343809Z",
          "shell.execute_reply": "2024-04-29T17:28:28.342916Z",
          "shell.execute_reply.started": "2024-04-29T17:28:25.327308Z"
        },
        "id": "31d3RElZMpu6",
        "outputId": "a6dda226-e623-4cc2-d135-0842ac3f629c",
        "trusted": true
      },
      "outputs": [
        {
          "name": "stdout",
          "output_type": "stream",
          "text": [
            "440/440 [==============================] - 4s 10ms/step - loss: 0.3864 - accuracy: 0.9034\n",
            "Test Loss: 0.3864261209964752\n",
            "Test Accuracy: 0.9033520817756653\n"
          ]
        }
      ],
      "source": [
        "loss, accuracy = model.evaluate(X_test, y_test_one_hot)\n",
        "\n",
        "print(\"Test Loss:\", loss)\n",
        "print(\"Test Accuracy:\", accuracy)"
      ]
    },
    {
      "cell_type": "code",
      "execution_count": null,
      "metadata": {
        "colab": {
          "base_uri": "https://localhost:8080/",
          "height": 581
        },
        "execution": {
          "iopub.execute_input": "2024-04-29T17:28:32.771489Z",
          "iopub.status.busy": "2024-04-29T17:28:32.770806Z",
          "iopub.status.idle": "2024-04-29T17:28:35.725805Z",
          "shell.execute_reply": "2024-04-29T17:28:35.724900Z",
          "shell.execute_reply.started": "2024-04-29T17:28:32.771456Z"
        },
        "id": "c5pC5OAjMpu6",
        "outputId": "8dae7c35-56c9-461f-ad1c-c4c9cdd78feb",
        "trusted": true
      },
      "outputs": [
        {
          "name": "stdout",
          "output_type": "stream",
          "text": [
            "440/440 [==============================] - 3s 7ms/step\n"
          ]
        },
        {
          "data": {
            "image/png": "[encoded data removed]",
            "text/plain": [
              "<Figure size 800x600 with 2 Axes>"
            ]
          },
          "metadata": {},
          "output_type": "display_data"
        }
      ],
      "source": [
        "import matplotlib.pyplot as plt\n",
        "import seaborn as sns\n",
        "from sklearn.metrics import confusion_matrix\n",
        "import numpy as np\n",
        "\n",
        "\n",
        "y_pred_probs = model.predict(X_test)\n",
        "y_pred_labels = np.argmax(y_pred_probs, axis=1)\n",
        "y_true_labels = np.argmax(y_test_one_hot, axis=1)\n",
        "conf_matrix = confusion_matrix(y_true_labels, y_pred_labels)\n",
        "plt.figure(figsize=(8, 6))\n",
        "sns.heatmap(conf_matrix, annot=True, fmt='d', cmap='Blues',\n",
        "            xticklabels=['Negative', 'Positive', 'Neutral', 'Irrelevant'],\n",
        "            yticklabels=['Negative', 'Positive', 'Neutral', 'Irrelevant'])\n",
        "plt.xlabel('Predicted')\n",
        "plt.ylabel('True')\n",
        "plt.title('Confusion Matrix')\n",
        "plt.show()\n"
      ]
    },
    {
      "cell_type": "markdown",
      "metadata": {},
      "source": [
        "# Saving the model"
      ]
    },
    {
      "cell_type": "code",
      "execution_count": null,
      "metadata": {
        "id": "by7-Dl9yToPb"
      },
      "outputs": [],
      "source": [
        "model.save(\"sentiment_analysis_model.keras\")"
      ]
    }
  ],
  "metadata": {
    "accelerator": "GPU",
    "colab": {
      "gpuType": "T4",
      "provenance": []
    },
    "kaggle": {
      "accelerator": "gpu",
      "dataSources": [
        {
          "datasetId": 1520310,
          "sourceId": 2510329,
          "sourceType": "datasetVersion"
        }
      ],
      "dockerImageVersionId": 30699,
      "isGpuEnabled": true,
      "isInternetEnabled": true,
      "language": "python",
      "sourceType": "notebook"
    },
    "kernelspec": {
      "display_name": "Python 3",
      "name": "python3"
    },
    "language_info": {
      "codemirror_mode": {
        "name": "ipython",
        "version": 3
      },
      "file_extension": ".py",
      "mimetype": "text/x-python",
      "name": "python",
      "nbconvert_exporter": "python",
      "pygments_lexer": "ipython3",
      "version": "3.9.18"
    }
  },
  "nbformat": 4,
  "nbformat_minor": 0
}
